{
 "cells": [
  {
   "cell_type": "markdown",
   "id": "c14dc001",
   "metadata": {},
   "source": [
    "# Summarization"
   ]
  },
  {
   "cell_type": "markdown",
   "id": "8c902884",
   "metadata": {},
   "source": [
    "## Зависимости"
   ]
  },
  {
   "cell_type": "code",
   "execution_count": 1,
   "id": "f426ee9b",
   "metadata": {},
   "outputs": [],
   "source": [
    "# !conda update -n base -c conda-forge conda -y\n",
    "# !conda install -c conda-forge ipywidgets -y\n",
    "# !conda install -c conda-forge datasets -y\n",
    "# !conda install -c conda-forge transformers -y\n",
    "# !conda install pytorch torchvision torchaudio pytorch-cuda=11.8 -c pytorch -c nvidia -y\n",
    "# %pip install evaluate -qq\n",
    "# %pip install rouge-score -qq\n",
    "# %pip install nltk -qq\n",
    "# %pip install absl-py -qq\n",
    "# %pip install transformers[sentencepiece] -qq"
   ]
  },
  {
   "cell_type": "markdown",
   "id": "0b31f4b8",
   "metadata": {},
   "source": [
    "## Подготовка данных"
   ]
  },
  {
   "cell_type": "code",
   "execution_count": 1,
   "id": "100cedb5",
   "metadata": {},
   "outputs": [],
   "source": [
    "import random\n",
    "\n",
    "import pandas as pd\n",
    "\n",
    "from datasets import load_dataset, ClassLabel\n",
    "from IPython.display import display, HTML"
   ]
  },
  {
   "cell_type": "markdown",
   "id": "898d61aa",
   "metadata": {},
   "source": [
    "### csebuetnlp/xlsum"
   ]
  },
  {
   "cell_type": "code",
   "execution_count": 2,
   "id": "c7e2a119",
   "metadata": {},
   "outputs": [],
   "source": [
    "dataset_xlsum_ru = load_dataset(\"csebuetnlp/xlsum\", 'russian')"
   ]
  },
  {
   "cell_type": "code",
   "execution_count": 3,
   "id": "10c83f26",
   "metadata": {},
   "outputs": [
    {
     "data": {
      "text/plain": [
       "DatasetDict({\n",
       "    train: Dataset({\n",
       "        features: ['id', 'url', 'title', 'summary', 'text'],\n",
       "        num_rows: 62243\n",
       "    })\n",
       "    test: Dataset({\n",
       "        features: ['id', 'url', 'title', 'summary', 'text'],\n",
       "        num_rows: 7780\n",
       "    })\n",
       "    validation: Dataset({\n",
       "        features: ['id', 'url', 'title', 'summary', 'text'],\n",
       "        num_rows: 7780\n",
       "    })\n",
       "})"
      ]
     },
     "execution_count": 3,
     "metadata": {},
     "output_type": "execute_result"
    }
   ],
   "source": [
    "dataset_xlsum_ru"
   ]
  },
  {
   "cell_type": "code",
   "execution_count": 4,
   "id": "e1cdc43a",
   "metadata": {},
   "outputs": [],
   "source": [
    "def show_random_elements(dataset, num_examples=2):\n",
    "    assert num_examples <= len(dataset), \"Can't pick more elements than there are in the dataset.\"\n",
    "    picks = []\n",
    "    for _ in range(num_examples):\n",
    "        pick = random.randint(0, len(dataset)-1)\n",
    "        while pick in picks:\n",
    "            pick = random.randint(0, len(dataset)-1)\n",
    "        picks.append(pick)\n",
    "    \n",
    "    df = pd.DataFrame(dataset[picks])\n",
    "    for column, typ in dataset.features.items():\n",
    "        if isinstance(typ, ClassLabel):\n",
    "            df[column] = df[column].transform(lambda i: typ.names[i])\n",
    "    display(HTML(df.to_html()))"
   ]
  },
  {
   "cell_type": "code",
   "execution_count": 5,
   "id": "bd058fde",
   "metadata": {},
   "outputs": [
    {
     "data": {
      "text/html": [
       "<table border=\"1\" class=\"dataframe\">\n",
       "  <thead>\n",
       "    <tr style=\"text-align: right;\">\n",
       "      <th></th>\n",
       "      <th>id</th>\n",
       "      <th>url</th>\n",
       "      <th>title</th>\n",
       "      <th>summary</th>\n",
       "      <th>text</th>\n",
       "    </tr>\n",
       "  </thead>\n",
       "  <tbody>\n",
       "    <tr>\n",
       "      <th>0</th>\n",
       "      <td>news-36950881</td>\n",
       "      <td>https://www.bbc.com/russian/news-36950881</td>\n",
       "      <td>Ученые: тяжелые болезни можно вылечить, \"обманув\" нервную систему пациента</td>\n",
       "      <td>Воздействуя на нервные клетки электрическими импульсами, можно вылечить такие заболевания, как артрит, астма и диабет, считают ученые.</td>\n",
       "      <td>Компания Galvani Bioelectronics планирует получить разрешение на использование новой методики лечения уже через 7 лет. За разработками также стоят GlaxoSmithKline и Verily (ранее - часть Google, Life Sciences). В ходе экспериментов над животными ученые закрепляли вокруг нерва миниатюрные силиконовые накладки с электродами, а затем воздействовали на него с помощью источника питания. Результаты одного из проведенных тестов показали, что это может помочь при лечении сахарного диабета второго типа, когда тело человека игнорирует гормон инсулин. Ученые сосредоточили свое внимание на наборе химических сенсоров, находящихся рядом с сонной артерией. Эти сенсоры замеряют уровень сахара и инсулина в крови, а затем при помощи нервных сигналов посылают эти данные в мозг, чтобы тот смог координировать реакцию организма на уровень глюкозы. \"Нейронные сигналы возрастают при диабете второго типа. Поэтому когда мы блокировали эти сигналы у больных диабетом лабораторных крыс, чувствительность их тел к инсулину восстановилась\", - рассказал в интервью Би-би-си Крис Фамм, вице-президент GlaxoSmithKline по биоэлектронике. Судя по данным первых исследований, тот же принцип должен работать и в случае других заболеваний. Биоэлектроника и медицина будущего \"Это не какое-то узкоспециальное открытие, это потенциально может стать совершенно новым типом терапии\", - считает Фамм. Однако он также подчеркивает, что пока исследования дают ученым лишь поверхностную картину того, как нервные сигналы воздействуют на поведение человеческого тела. Исследователи полагают, что это не просто вопрос \"включения и выключения\" каких-то нервов - здесь имеют значение и объем, и ритм нервных сигналов. И даже если такой метод лечения возможен в теории, то для его практического применения придется проделать огромную работу. Наборы для \"обмана\" нервной системы должны быть миниатюрными, индивидуально подстраиваемыми под нервы каждого пациента, достаточно прочными и иметь мощную батарейку. \"Я думаю, что через 10-20 лет такие небольшие и высокоточные наборы можно будет выдавать прямо на приеме у врача\", - считает Фамм. \"Биоэлектронная медицина - это новая эра в терапии. Успех в этой области будет зависеть от слияния глубоких познаний в биологии болезней и новейших сверхминиатюрных технологий, - говорит технический директор Verily Брайан Отис. - Это позволит нам применять наши знания в области маломощных, миниатюрных способов анализа данных для потенциального лечения многих заболеваний с более высокой точностью и лучшими результатами\".</td>\n",
       "    </tr>\n",
       "    <tr>\n",
       "      <th>1</th>\n",
       "      <td>140318_ukraine_crimea_israel_reaction</td>\n",
       "      <td>https://www.bbc.com/russian/international/2014/03/140318_ukraine_crimea_israel_reaction</td>\n",
       "      <td>Израиль занял нейтральную позицию в отношении Крыма</td>\n",
       "      <td>Израиль остается одной из немногих западных стран, которые отказываются публично критиковать Россию за ее действия в Крыму.</td>\n",
       "      <td>Министр обороны Израиля обеспокоен реакцией США на события в Крыму Тем не менее, правительство дало понять, что конфликт между Украиной и Россией может иметь далеко идущие последствия, в том числе и для еврейского государства. В частности, в Израиле проводят параллели между кризисом в Крыму и будущим разрешением иранской ядерной проблемы, на дипломатическом решении которой настаивают американцы. \"Слабость американской дипломатии заставляет нас кардинально пересмотреть свое видение будущего устранения иранской атомной угрозы, - заявил в понедельник министр обороны Израиля Моше Яалон. – Вялая реакция Белого дома на кризис в Крыму – лучшее тому доказательство\". Выступая в тель-авивском университете, Яалон подчеркнул, что Иран может использовать резкое ухудшение отношений между Западом и Россией для того, чтобы ужесточить свои позиции на переговорах по поводу ядерной программы. \"Когда вы проявляете слабость на внешней арене, рано или поздно враг постучится к вам в двери и вот тогда будет уже поздно\", – заявил Яалон. \"Не лезть в эту кашу\" Израиль занимает нейтральную позицию по вопросу о Крыме Ранее, о ситуации в Крыму высказался глава МИД Израиля Авигдор Либерман. Выступая на прошлой неделе в программе \"Герой дня\" на Девятом израильском телеканале, Либерман отметил, что он считает правильным контактировать с обеими сторонами. \"Для нас правильный вывод – не лезть в эту кашу - туда, куда нас не просят. У нас очень хорошие отношения с российской стороной, с американцами и мы также поддерживаем контакты с украинским руководством\", – заявил Либерман. Не изменилась позиция Либермана и после референдума в Крыму 16 марта. В окружении министра настаивают на том, что Израилю следует воздерживаться от какой либо позиции по столь щепетильному вопросу. Тем не менее, в начале марта, в самый разгар кризиса в Крыму, Либерман отправился в Рим, где провел сразу две рабочие встречи: с госсекретарём США Джоном Керри и российским министром иностранных дел Сергеем Лавровым. Одной из тем обсуждений с обоими лидерами была ситуация в Крыму. \"Не думаю, что нам силой надо навязывать кому либо свое посредничество, тем более, что Лавров и Керри хорошо знают друг друга и прекрасно общаются без переводчика\", – отметил Либерман. Однако нейтральная позиция, которую занял Израиль, отнюдь не помешала некоторым российским СМИ причислить Израиль к ярым сторонникам действий президента Путина в отношении Крыма. Высокопоставленный источник в правительстве Израиля в закрытой беседе отметил, что речь идет о намеренной дезинформации, которая преследует целью придать международную легитимность действиям России в Крыму. \"Мы наблюдаем за умышленными попытками разыграть так называемую еврейскую карту на Украине, когда в различных СМИ появляются сообщения о нападениях на евреев и вандализме в синагогах, - отмечает источник. – Однако детальные проверки ничего подобного не выявили, и уровень антисемитизма на Украине остается на прежнем уровне\". Не существует сегодня также официального предупреждения Национального штаба Израиля по борьбе с террором воздержаться от поездок на Украину. Подобный призыв был в силе в самый разгар кровавых столкновений на Майдане, однако позже был отменен. Непризнанный суверенитет Ждет ли Крым судьба палестинских территорий? Говоря о слабой реакции Запада на действия России в Крыму, ряд израильских аналитиков опасаются возможных последствий санкций. \"Запад все время пугает Россию грозными мерами. Весь вопрос – насколько там готовы поступиться экономическими удобствами и действительно выступить против Москвы единым фронтом? - задается вопросом бригадный генерал запаса Амос Гильбоа, в прошлом высокопоставленный офицер военной разведки Израиля. – Если подобное произойдет, то Израиль может оказаться среди первых стран, кто почувствует ответ России на себе\". Военное сотрудничество с Ираном, договор об уничтожении химического оружия Сирии, поставки современных военных комплексов в арабские страны – это лишь малая часть так называемых \"российских рычагов\" в регионе. По мнению бывшего военного, на европейские санкции Москва может ответить немедленно и крайне негативно для Израиля. Наконец, еще один фактор, оказавший влияние на реакцию еврейского государства во время крымского кризиса и о котором в Израиле предпочитают не говорить вслух – это статус оккупированных территорий. Восточный Иерусалим и Голаны были аннексированы правительством Израиля еще в начале 1980-х годов и, согласно местному законодательству, признаны полноценной территорией страны. Однако в мире израильский суверенитет на эти земли так до сих пор и не признали, что, по мнению израильтян, ожидает в перспективе и полуостров Крым.</td>\n",
       "    </tr>\n",
       "  </tbody>\n",
       "</table>"
      ],
      "text/plain": [
       "<IPython.core.display.HTML object>"
      ]
     },
     "metadata": {},
     "output_type": "display_data"
    }
   ],
   "source": [
    "show_random_elements(dataset_xlsum_ru['train'])"
   ]
  },
  {
   "cell_type": "markdown",
   "id": "1fcb40ed",
   "metadata": {},
   "source": [
    "## Обучение моделей"
   ]
  },
  {
   "cell_type": "code",
   "execution_count": 6,
   "id": "6e8bdba0",
   "metadata": {},
   "outputs": [
    {
     "name": "stdout",
     "output_type": "stream",
     "text": [
      "[2023-09-30 09:22:15,642] [INFO] [real_accelerator.py:110:get_accelerator] Setting ds_accelerator to cuda (auto detect)\n"
     ]
    }
   ],
   "source": [
    "import gc\n",
    "import os\n",
    "import comet_ml\n",
    "\n",
    "from accelerate import notebook_launcher\n",
    "from accelerate.utils import set_seed\n",
    "\n",
    "from transformers import AutoTokenizer, AutoModelForSeq2SeqLM\n",
    "from transformers import Trainer, TrainingArguments\n",
    "from transformers import DataCollatorForSeq2Seq\n",
    "from transformers import AutoModelForSeq2SeqLM, Seq2SeqTrainingArguments, Seq2SeqTrainer\n",
    "\n",
    "import torch\n",
    "import torch.optim as optim"
   ]
  },
  {
   "cell_type": "code",
   "execution_count": 7,
   "id": "5bd45455",
   "metadata": {},
   "outputs": [],
   "source": [
    "os.environ[\"COMET_LOG_ASSETS\"] = \"True\""
   ]
  },
  {
   "cell_type": "markdown",
   "id": "42ba9e61",
   "metadata": {},
   "source": [
    "### facebook bart-large-cnn"
   ]
  },
  {
   "cell_type": "code",
   "execution_count": 8,
   "id": "bec6705e",
   "metadata": {},
   "outputs": [],
   "source": [
    "model_checkpoint = \"facebook/bart-large-cnn\""
   ]
  },
  {
   "cell_type": "markdown",
   "id": "e18c6869",
   "metadata": {},
   "source": [
    "#### Tokenizer"
   ]
  },
  {
   "cell_type": "code",
   "execution_count": 9,
   "id": "fd460d3a",
   "metadata": {},
   "outputs": [],
   "source": [
    "old_tokenizer = AutoTokenizer.from_pretrained(model_checkpoint)"
   ]
  },
  {
   "cell_type": "code",
   "execution_count": 10,
   "id": "83702a6a",
   "metadata": {},
   "outputs": [
    {
     "name": "stdout",
     "output_type": "stream",
     "text": [
      "\n",
      "\n",
      "\n"
     ]
    },
    {
     "data": {
      "text/plain": [
       "('facebook/bart-large-cnn-ru/tokenizer_config.json',\n",
       " 'facebook/bart-large-cnn-ru/special_tokens_map.json',\n",
       " 'facebook/bart-large-cnn-ru/vocab.json',\n",
       " 'facebook/bart-large-cnn-ru/merges.txt',\n",
       " 'facebook/bart-large-cnn-ru/added_tokens.json',\n",
       " 'facebook/bart-large-cnn-ru/tokenizer.json')"
      ]
     },
     "execution_count": 10,
     "metadata": {},
     "output_type": "execute_result"
    }
   ],
   "source": [
    "tokenizer = old_tokenizer.train_new_from_iterator(dataset_xlsum_ru, 250_027)\n",
    "tokenizer.save_pretrained(\"facebook/bart-large-cnn-ru\")"
   ]
  },
  {
   "cell_type": "code",
   "execution_count": 11,
   "id": "e64e41c7",
   "metadata": {},
   "outputs": [],
   "source": [
    "def tokenize_function(examples):\n",
    "    return tokenizer(examples[\"text\"])"
   ]
  },
  {
   "cell_type": "code",
   "execution_count": 12,
   "id": "ded58d35",
   "metadata": {},
   "outputs": [],
   "source": [
    "tokenized_datasets = dataset_xlsum_ru.map(tokenize_function, batched=True, num_proc=8)"
   ]
  },
  {
   "cell_type": "code",
   "execution_count": 13,
   "id": "510664dc",
   "metadata": {},
   "outputs": [],
   "source": [
    "# block_size = tokenizer.model_max_length\n",
    "BLOCK_SIZE = 128\n",
    "BATCH_SIZE = 10"
   ]
  },
  {
   "cell_type": "code",
   "execution_count": 14,
   "id": "05848f2f",
   "metadata": {},
   "outputs": [],
   "source": [
    "prefix = \"summarize: \"\n",
    "\n",
    "def preprocess_function(examples):\n",
    "    inputs = [prefix + doc for doc in examples[\"text\"]]\n",
    "    model_inputs = tokenizer(inputs, max_length=1024, truncation=True)\n",
    "\n",
    "    labels = tokenizer(text_target=examples[\"summary\"], max_length=BLOCK_SIZE, truncation=True)\n",
    "\n",
    "    model_inputs[\"labels\"] = labels[\"input_ids\"]\n",
    "    return model_inputs"
   ]
  },
  {
   "cell_type": "code",
   "execution_count": 15,
   "id": "4528c461",
   "metadata": {},
   "outputs": [
    {
     "data": {
      "application/vnd.jupyter.widget-view+json": {
       "model_id": "f20667f6d5fe4eed9250fd8c5fbc0fd7",
       "version_major": 2,
       "version_minor": 0
      },
      "text/plain": [
       "Map (num_proc=8):   0%|          | 0/62243 [00:00<?, ? examples/s]"
      ]
     },
     "metadata": {},
     "output_type": "display_data"
    },
    {
     "data": {
      "application/vnd.jupyter.widget-view+json": {
       "model_id": "1060280cdd1f4efdabae4f17bd6e97de",
       "version_major": 2,
       "version_minor": 0
      },
      "text/plain": [
       "Map (num_proc=8):   0%|          | 0/7780 [00:00<?, ? examples/s]"
      ]
     },
     "metadata": {},
     "output_type": "display_data"
    },
    {
     "data": {
      "application/vnd.jupyter.widget-view+json": {
       "model_id": "0738198efd014806b5288f180eb1cd90",
       "version_major": 2,
       "version_minor": 0
      },
      "text/plain": [
       "Map (num_proc=8):   0%|          | 0/7780 [00:00<?, ? examples/s]"
      ]
     },
     "metadata": {},
     "output_type": "display_data"
    }
   ],
   "source": [
    "lm_datasets = tokenized_datasets.map(\n",
    "    preprocess_function,\n",
    "    batched=True,\n",
    "    batch_size=BATCH_SIZE,\n",
    "    num_proc=8,\n",
    ")"
   ]
  },
  {
   "cell_type": "code",
   "execution_count": 16,
   "id": "12d22a0b",
   "metadata": {},
   "outputs": [],
   "source": [
    "model = AutoModelForSeq2SeqLM.from_pretrained(model_checkpoint)"
   ]
  },
  {
   "cell_type": "code",
   "execution_count": 17,
   "id": "cfa16a3b",
   "metadata": {},
   "outputs": [],
   "source": [
    "data_collator = DataCollatorForSeq2Seq(tokenizer=tokenizer, model=model_checkpoint)"
   ]
  },
  {
   "cell_type": "markdown",
   "id": "46b464bb",
   "metadata": {},
   "source": [
    "#### GPU runtime"
   ]
  },
  {
   "cell_type": "code",
   "execution_count": 18,
   "id": "84001b79",
   "metadata": {},
   "outputs": [
    {
     "data": {
      "text/plain": [
       "92"
      ]
     },
     "execution_count": 18,
     "metadata": {},
     "output_type": "execute_result"
    }
   ],
   "source": [
    "torch.cuda.empty_cache()\n",
    "gc.collect()"
   ]
  },
  {
   "cell_type": "code",
   "execution_count": 19,
   "id": "c49e7b1f",
   "metadata": {},
   "outputs": [
    {
     "name": "stdout",
     "output_type": "stream",
     "text": [
      "Sat Sep 30 09:23:49 2023       \n",
      "+-----------------------------------------------------------------------------+\n",
      "| NVIDIA-SMI 520.61.05    Driver Version: 520.61.05    CUDA Version: 11.8     |\n",
      "|-------------------------------+----------------------+----------------------+\n",
      "| GPU  Name        Persistence-M| Bus-Id        Disp.A | Volatile Uncorr. ECC |\n",
      "| Fan  Temp  Perf  Pwr:Usage/Cap|         Memory-Usage | GPU-Util  Compute M. |\n",
      "|                               |                      |               MIG M. |\n",
      "|===============================+======================+======================|\n",
      "|   0  Tesla V100-PCIE...  On   | 00000000:01:00.0 Off |                    0 |\n",
      "| N/A   33C    P0    26W / 250W |      0MiB / 32768MiB |      0%      Default |\n",
      "|                               |                      |                  N/A |\n",
      "+-------------------------------+----------------------+----------------------+\n",
      "|   1  Tesla V100-PCIE...  On   | 00000000:02:00.0 Off |                    0 |\n",
      "| N/A   35C    P0    28W / 250W |      0MiB / 32768MiB |      0%      Default |\n",
      "|                               |                      |                  N/A |\n",
      "+-------------------------------+----------------------+----------------------+\n",
      "                                                                               \n",
      "+-----------------------------------------------------------------------------+\n",
      "| Processes:                                                                  |\n",
      "|  GPU   GI   CI        PID   Type   Process name                  GPU Memory |\n",
      "|        ID   ID                                                   Usage      |\n",
      "|=============================================================================|\n",
      "|  No running processes found                                                 |\n",
      "+-----------------------------------------------------------------------------+\n"
     ]
    }
   ],
   "source": [
    "!nvidia-smi"
   ]
  },
  {
   "cell_type": "markdown",
   "id": "b7e39834",
   "metadata": {},
   "source": [
    "#### Evaluate"
   ]
  },
  {
   "cell_type": "code",
   "execution_count": 20,
   "id": "f5b00157",
   "metadata": {},
   "outputs": [],
   "source": [
    "import evaluate\n",
    "\n",
    "rouge = evaluate.load(\"rouge\")"
   ]
  },
  {
   "cell_type": "code",
   "execution_count": 21,
   "id": "427431e2",
   "metadata": {},
   "outputs": [],
   "source": [
    "import numpy as np\n",
    "\n",
    "\n",
    "def compute_metrics(eval_pred):\n",
    "    predictions, labels = eval_pred\n",
    "    decoded_preds = tokenizer.batch_decode(predictions, skip_special_tokens=True)\n",
    "    labels = np.where(labels != -100, labels, tokenizer.pad_token_id)\n",
    "    decoded_labels = tokenizer.batch_decode(labels, skip_special_tokens=True)\n",
    "\n",
    "    result = rouge.compute(predictions=decoded_preds, references=decoded_labels, use_stemmer=True)\n",
    "\n",
    "    prediction_lens = [np.count_nonzero(pred != tokenizer.pad_token_id) for pred in predictions]\n",
    "    result[\"gen_len\"] = np.mean(prediction_lens)\n",
    "\n",
    "    return {k: round(v, 4) for k, v in result.items()}"
   ]
  },
  {
   "cell_type": "markdown",
   "id": "ec5549dc",
   "metadata": {},
   "source": [
    "#### Training"
   ]
  },
  {
   "cell_type": "code",
   "execution_count": 22,
   "id": "89e010a0",
   "metadata": {},
   "outputs": [],
   "source": [
    "comet_ml.init( project_name = \"KaiTube\", experiment_name = \"Summarization\")"
   ]
  },
  {
   "cell_type": "code",
   "execution_count": 23,
   "id": "0f2ee276",
   "metadata": {},
   "outputs": [],
   "source": [
    "def training_function():\n",
    "    model_name = model_checkpoint.split(\"/\")[-1]\n",
    "    \n",
    "    training_args = Seq2SeqTrainingArguments(\n",
    "        output_dir=\"my_awesome_billsum_model\",\n",
    "        evaluation_strategy=\"epoch\",\n",
    "        learning_rate=2e-5,\n",
    "        per_device_train_batch_size=BATCH_SIZE,\n",
    "        per_device_eval_batch_size=BATCH_SIZE,\n",
    "        weight_decay=0.01,\n",
    "        save_total_limit=3,\n",
    "        num_train_epochs=20,\n",
    "        predict_with_generate=True,\n",
    "        fp16=True\n",
    "    )\n",
    "    \n",
    "    set_seed(42)\n",
    "    torch.manual_seed(7)\n",
    "    \n",
    "    optimizer = optim.AdamW(model.parameters(), training_args.learning_rate)\n",
    "    scheduler = optim.lr_scheduler.OneCycleLR(\n",
    "        optimizer, \n",
    "        max_lr=training_args.learning_rate,\n",
    "        steps_per_epoch=int(len(lm_datasets[\"train\"])),\n",
    "        epochs=training_args.per_device_train_batch_size,\n",
    "        anneal_strategy='linear'\n",
    "    )\n",
    "    \n",
    "    trainer = Seq2SeqTrainer(\n",
    "        model=model,\n",
    "        args=training_args,\n",
    "        train_dataset=lm_datasets[\"train\"],\n",
    "        eval_dataset=lm_datasets[\"validation\"],\n",
    "        tokenizer=tokenizer,\n",
    "        data_collator=data_collator,\n",
    "        compute_metrics=compute_metrics,\n",
    "        optimizers=(optimizer, scheduler)\n",
    "    )\n",
    "    trainer.train()\n",
    "    return trainer"
   ]
  },
  {
   "cell_type": "code",
   "execution_count": 24,
   "id": "4280b3db",
   "metadata": {
    "scrolled": true
   },
   "outputs": [
    {
     "name": "stdout",
     "output_type": "stream",
     "text": [
      "Launching training on 2 GPUs.\n"
     ]
    },
    {
     "name": "stderr",
     "output_type": "stream",
     "text": [
      "\u001b[1;38;5;214mCOMET WARNING:\u001b[0m As you are running in a Jupyter environment, you will need to call `experiment.end()` when finished to ensure all metrics and code are logged before exiting.\n",
      "\u001b[1;38;5;214mCOMET WARNING:\u001b[0m You are trying to log string value as a metric. This is not recommended.\n",
      "\u001b[1;38;5;39mCOMET INFO:\u001b[0m Experiment is live on comet.com https://www.comet.com/gumaonelove/kaitube/3303e3048d624240a389735f733e8fd8\n",
      "\n",
      "You're using a BartTokenizerFast tokenizer. Please note that with a fast tokenizer, using the `__call__` method is faster than using a method to encode the text followed by a call to the `pad` method to get a padded encoding.\n",
      "You're using a BartTokenizerFast tokenizer. Please note that with a fast tokenizer, using the `__call__` method is faster than using a method to encode the text followed by a call to the `pad` method to get a padded encoding.\n",
      "[W reducer.cpp:1300] Warning: find_unused_parameters=True was specified in DDP constructor, but did not find any unused parameters in the forward pass. This flag results in an extra traversal of the autograd graph every iteration,  which can adversely affect performance. If your model indeed never has any unused parameters in the forward pass, consider turning this flag off. Note that this warning may be a false positive if your model has flow control causing later iterations to have unused parameters. (function operator())\n",
      "[W reducer.cpp:1300] Warning: find_unused_parameters=True was specified in DDP constructor, but did not find any unused parameters in the forward pass. This flag results in an extra traversal of the autograd graph every iteration,  which can adversely affect performance. If your model indeed never has any unused parameters in the forward pass, consider turning this flag off. Note that this warning may be a false positive if your model has flow control causing later iterations to have unused parameters. (function operator())\n"
     ]
    },
    {
     "data": {
      "text/html": [
       "\n",
       "    <div>\n",
       "      \n",
       "      <progress value='9925' max='62260' style='width:300px; height:20px; vertical-align: middle;'></progress>\n",
       "      [ 9925/62260 4:06:07 < 21:38:07, 0.67 it/s, Epoch 3.19/20]\n",
       "    </div>\n",
       "    <table border=\"1\" class=\"dataframe\">\n",
       "  <thead>\n",
       " <tr style=\"text-align: left;\">\n",
       "      <th>Epoch</th>\n",
       "      <th>Training Loss</th>\n",
       "      <th>Validation Loss</th>\n",
       "      <th>Rouge1</th>\n",
       "      <th>Rouge2</th>\n",
       "      <th>Rougel</th>\n",
       "      <th>Rougelsum</th>\n",
       "      <th>Gen Len</th>\n",
       "    </tr>\n",
       "  </thead>\n",
       "  <tbody>\n",
       "    <tr>\n",
       "      <td>1</td>\n",
       "      <td>1.076600</td>\n",
       "      <td>1.003059</td>\n",
       "      <td>0.004800</td>\n",
       "      <td>0.000600</td>\n",
       "      <td>0.004800</td>\n",
       "      <td>0.004800</td>\n",
       "      <td>140.472800</td>\n",
       "    </tr>\n",
       "    <tr>\n",
       "      <td>2</td>\n",
       "      <td>0.932100</td>\n",
       "      <td>0.866360</td>\n",
       "      <td>0.007000</td>\n",
       "      <td>0.000900</td>\n",
       "      <td>0.007000</td>\n",
       "      <td>0.007000</td>\n",
       "      <td>139.982500</td>\n",
       "    </tr>\n",
       "    <tr>\n",
       "      <td>3</td>\n",
       "      <td>0.842300</td>\n",
       "      <td>0.781446</td>\n",
       "      <td>0.007000</td>\n",
       "      <td>0.000800</td>\n",
       "      <td>0.007000</td>\n",
       "      <td>0.007000</td>\n",
       "      <td>134.843800</td>\n",
       "    </tr>\n",
       "  </tbody>\n",
       "</table><p>"
      ],
      "text/plain": [
       "<IPython.core.display.HTML object>"
      ]
     },
     "metadata": {},
     "output_type": "display_data"
    },
    {
     "data": {
      "text/html": [
       "\n",
       "    <div>\n",
       "      \n",
       "      <progress value='9925' max='62260' style='width:300px; height:20px; vertical-align: middle;'></progress>\n",
       "      [ 9925/62260 4:06:07 < 21:38:08, 0.67 it/s, Epoch 3.19/20]\n",
       "    </div>\n",
       "    <table border=\"1\" class=\"dataframe\">\n",
       "  <thead>\n",
       " <tr style=\"text-align: left;\">\n",
       "      <th>Epoch</th>\n",
       "      <th>Training Loss</th>\n",
       "      <th>Validation Loss</th>\n",
       "      <th>Rouge1</th>\n",
       "      <th>Rouge2</th>\n",
       "      <th>Rougel</th>\n",
       "      <th>Rougelsum</th>\n",
       "      <th>Gen Len</th>\n",
       "    </tr>\n",
       "  </thead>\n",
       "  <tbody>\n",
       "    <tr>\n",
       "      <td>1</td>\n",
       "      <td>1.076600</td>\n",
       "      <td>1.003059</td>\n",
       "      <td>0.004800</td>\n",
       "      <td>0.000600</td>\n",
       "      <td>0.004800</td>\n",
       "      <td>0.004800</td>\n",
       "      <td>140.472800</td>\n",
       "    </tr>\n",
       "    <tr>\n",
       "      <td>2</td>\n",
       "      <td>0.932100</td>\n",
       "      <td>0.866360</td>\n",
       "      <td>0.007000</td>\n",
       "      <td>0.000900</td>\n",
       "      <td>0.007000</td>\n",
       "      <td>0.007000</td>\n",
       "      <td>139.982500</td>\n",
       "    </tr>\n",
       "    <tr>\n",
       "      <td>3</td>\n",
       "      <td>0.842300</td>\n",
       "      <td>0.781446</td>\n",
       "      <td>0.007000</td>\n",
       "      <td>0.000800</td>\n",
       "      <td>0.007000</td>\n",
       "      <td>0.007000</td>\n",
       "      <td>134.843800</td>\n",
       "    </tr>\n",
       "  </tbody>\n",
       "</table><p>"
      ],
      "text/plain": [
       "<IPython.core.display.HTML object>"
      ]
     },
     "metadata": {},
     "output_type": "display_data"
    },
    {
     "ename": "KeyboardInterrupt",
     "evalue": "",
     "output_type": "error",
     "traceback": [
      "\u001b[0;31m---------------------------------------------------------------------------\u001b[0m",
      "\u001b[0;31mKeyboardInterrupt\u001b[0m                         Traceback (most recent call last)",
      "Cell \u001b[0;32mIn[24], line 1\u001b[0m\n\u001b[0;32m----> 1\u001b[0m trainer \u001b[38;5;241m=\u001b[39m notebook_launcher(training_function, num_processes\u001b[38;5;241m=\u001b[39m\u001b[38;5;241m2\u001b[39m, mixed_precision\u001b[38;5;241m=\u001b[39m\u001b[38;5;124m'\u001b[39m\u001b[38;5;124mfp16\u001b[39m\u001b[38;5;124m'\u001b[39m)\n",
      "File \u001b[0;32m~/miniconda3/envs/asr/lib/python3.11/site-packages/accelerate/launchers.py:154\u001b[0m, in \u001b[0;36mnotebook_launcher\u001b[0;34m(function, args, num_processes, mixed_precision, use_port)\u001b[0m\n\u001b[1;32m    152\u001b[0m \u001b[38;5;28mprint\u001b[39m(\u001b[38;5;124mf\u001b[39m\u001b[38;5;124m\"\u001b[39m\u001b[38;5;124mLaunching training on \u001b[39m\u001b[38;5;132;01m{\u001b[39;00mnum_processes\u001b[38;5;132;01m}\u001b[39;00m\u001b[38;5;124m GPUs.\u001b[39m\u001b[38;5;124m\"\u001b[39m)\n\u001b[1;32m    153\u001b[0m \u001b[38;5;28;01mtry\u001b[39;00m:\n\u001b[0;32m--> 154\u001b[0m     start_processes(launcher, args\u001b[38;5;241m=\u001b[39margs, nprocs\u001b[38;5;241m=\u001b[39mnum_processes, start_method\u001b[38;5;241m=\u001b[39m\u001b[38;5;124m\"\u001b[39m\u001b[38;5;124mfork\u001b[39m\u001b[38;5;124m\"\u001b[39m)\n\u001b[1;32m    155\u001b[0m \u001b[38;5;28;01mexcept\u001b[39;00m ProcessRaisedException \u001b[38;5;28;01mas\u001b[39;00m e:\n\u001b[1;32m    156\u001b[0m     \u001b[38;5;28;01mif\u001b[39;00m \u001b[38;5;124m\"\u001b[39m\u001b[38;5;124mCannot re-initialize CUDA in forked subprocess\u001b[39m\u001b[38;5;124m\"\u001b[39m \u001b[38;5;129;01min\u001b[39;00m e\u001b[38;5;241m.\u001b[39margs[\u001b[38;5;241m0\u001b[39m]:\n",
      "File \u001b[0;32m~/miniconda3/envs/asr/lib/python3.11/site-packages/torch/multiprocessing/spawn.py:197\u001b[0m, in \u001b[0;36mstart_processes\u001b[0;34m(fn, args, nprocs, join, daemon, start_method)\u001b[0m\n\u001b[1;32m    194\u001b[0m     \u001b[38;5;28;01mreturn\u001b[39;00m context\n\u001b[1;32m    196\u001b[0m \u001b[38;5;66;03m# Loop on join until it returns True or raises an exception.\u001b[39;00m\n\u001b[0;32m--> 197\u001b[0m \u001b[38;5;28;01mwhile\u001b[39;00m \u001b[38;5;129;01mnot\u001b[39;00m context\u001b[38;5;241m.\u001b[39mjoin():\n\u001b[1;32m    198\u001b[0m     \u001b[38;5;28;01mpass\u001b[39;00m\n",
      "File \u001b[0;32m~/miniconda3/envs/asr/lib/python3.11/site-packages/torch/multiprocessing/spawn.py:109\u001b[0m, in \u001b[0;36mProcessContext.join\u001b[0;34m(self, timeout)\u001b[0m\n\u001b[1;32m    106\u001b[0m     \u001b[38;5;28;01mreturn\u001b[39;00m \u001b[38;5;28;01mTrue\u001b[39;00m\n\u001b[1;32m    108\u001b[0m \u001b[38;5;66;03m# Wait for any process to fail or all of them to succeed.\u001b[39;00m\n\u001b[0;32m--> 109\u001b[0m ready \u001b[38;5;241m=\u001b[39m multiprocessing\u001b[38;5;241m.\u001b[39mconnection\u001b[38;5;241m.\u001b[39mwait(\n\u001b[1;32m    110\u001b[0m     \u001b[38;5;28mself\u001b[39m\u001b[38;5;241m.\u001b[39msentinels\u001b[38;5;241m.\u001b[39mkeys(),\n\u001b[1;32m    111\u001b[0m     timeout\u001b[38;5;241m=\u001b[39mtimeout,\n\u001b[1;32m    112\u001b[0m )\n\u001b[1;32m    114\u001b[0m error_index \u001b[38;5;241m=\u001b[39m \u001b[38;5;28;01mNone\u001b[39;00m\n\u001b[1;32m    115\u001b[0m \u001b[38;5;28;01mfor\u001b[39;00m sentinel \u001b[38;5;129;01min\u001b[39;00m ready:\n",
      "File \u001b[0;32m~/miniconda3/envs/asr/lib/python3.11/multiprocessing/connection.py:930\u001b[0m, in \u001b[0;36mwait\u001b[0;34m(object_list, timeout)\u001b[0m\n\u001b[1;32m    927\u001b[0m     deadline \u001b[38;5;241m=\u001b[39m time\u001b[38;5;241m.\u001b[39mmonotonic() \u001b[38;5;241m+\u001b[39m timeout\n\u001b[1;32m    929\u001b[0m \u001b[38;5;28;01mwhile\u001b[39;00m \u001b[38;5;28;01mTrue\u001b[39;00m:\n\u001b[0;32m--> 930\u001b[0m     ready \u001b[38;5;241m=\u001b[39m selector\u001b[38;5;241m.\u001b[39mselect(timeout)\n\u001b[1;32m    931\u001b[0m     \u001b[38;5;28;01mif\u001b[39;00m ready:\n\u001b[1;32m    932\u001b[0m         \u001b[38;5;28;01mreturn\u001b[39;00m [key\u001b[38;5;241m.\u001b[39mfileobj \u001b[38;5;28;01mfor\u001b[39;00m (key, events) \u001b[38;5;129;01min\u001b[39;00m ready]\n",
      "File \u001b[0;32m~/miniconda3/envs/asr/lib/python3.11/selectors.py:415\u001b[0m, in \u001b[0;36m_PollLikeSelector.select\u001b[0;34m(self, timeout)\u001b[0m\n\u001b[1;32m    413\u001b[0m ready \u001b[38;5;241m=\u001b[39m []\n\u001b[1;32m    414\u001b[0m \u001b[38;5;28;01mtry\u001b[39;00m:\n\u001b[0;32m--> 415\u001b[0m     fd_event_list \u001b[38;5;241m=\u001b[39m \u001b[38;5;28mself\u001b[39m\u001b[38;5;241m.\u001b[39m_selector\u001b[38;5;241m.\u001b[39mpoll(timeout)\n\u001b[1;32m    416\u001b[0m \u001b[38;5;28;01mexcept\u001b[39;00m \u001b[38;5;167;01mInterruptedError\u001b[39;00m:\n\u001b[1;32m    417\u001b[0m     \u001b[38;5;28;01mreturn\u001b[39;00m ready\n",
      "\u001b[0;31mKeyboardInterrupt\u001b[0m: "
     ]
    }
   ],
   "source": [
    "trainer = notebook_launcher(training_function, num_processes=2, mixed_precision='fp16')"
   ]
  },
  {
   "cell_type": "markdown",
   "id": "dc053f55",
   "metadata": {},
   "source": [
    "#### Inference"
   ]
  },
  {
   "cell_type": "code",
   "execution_count": 25,
   "id": "0b93f5d5",
   "metadata": {},
   "outputs": [],
   "source": [
    "from transformers import pipeline"
   ]
  },
  {
   "cell_type": "code",
   "execution_count": 26,
   "id": "db6f1ccf",
   "metadata": {},
   "outputs": [],
   "source": [
    "summarizer = pipeline(\"summarization\", model=\"my_awesome_billsum_model/checkpoint-9500/\")"
   ]
  },
  {
   "cell_type": "code",
   "execution_count": 27,
   "id": "2f838e28",
   "metadata": {},
   "outputs": [],
   "source": [
    "text = \"\"\"['Оживленная городская улица ночью с множеством огней.'] \n",
    "['Улыбающаяся женщина держит табличку с надписью «Я не могу видеть изображение выше».'] \n",
    "['Черно-белое фото человека, сидящего на полу.'] \n",
    "['Стол, на котором лежат разные предметы.'] \n",
    "['Стол, на котором лежат разные предметы.'] \n",
    "['Стол, на котором лежат разные предметы.'] \n",
    "['Женщина сидит за столом с ноутбуком.'] \n",
    "['Женщина, сидящая на скамейке, смотрит в мобильный телефон.'] \n",
    "['Женщина, сидящая в кресле, разговаривает по мобильному телефону.'] \n",
    "['Черно-белое фото человека, держащего мобильный телефон.'] \n",
    "['Черно-белая фотография человека, держащего мобильный телефон.'] \n",
    "['Две фотографии человека, держащего два разных предмета.'] \n",
    "['Стеклянная скульптура слона, сидящего на столе.'] \n",
    "['Стеклянная скульптура слона, сидящего на столе.'] \n",
    "['Черно-белая фотография человека, держащего табличку.'] \n",
    "['Черно-белая фотография человека, держащего мобильный телефон.'] \n",
    "['Крупный план трех разных изображений.'] \n",
    "['Две фотографии человека, держащего сноуборд.'] \n",
    "['Плюшевый мишка с розовым бантом.'] \n",
    "['Сине-белый уличный фонарь и дерево.'] \n",
    "['Стеклянная ваза с нарисованными на ней цветами.'] \n",
    "['Стеклянная ваза с нарисованным на ней лицом.'] \n",
    "['Стеклянная ваза стоит на столе.'] \n",
    "['Сине-белый уличный фонарь и дерево.'] \n",
    "['Крупный план часов на стене здания.'] \n",
    "['Крупный план цветка на фоне неба.'] \n",
    "['Черно-белая фотография человека, стоящего на коленях на земле.'] \n",
    "['Крупный план розового цветка в вазе.'] \n",
    "['Крупный план человека, держащего скейтборд.'] \n",
    "['Крупный план желтого и зеленого цветов.'] \n",
    "['Две доски для серфинга стоят рядом друг с другом.'] \n",
    "['Розовый плюшевый мишка сидит в вазе.'] \n",
    "['Крупный план уличного знака на фоне голубого неба.'] \n",
    "['Крупный план знака остановки на фоне неба.'] \n",
    "['Уличная сцена с изображением знака «Стоп».'] \n",
    "['Черно-белое фото трех человек, держащих плюшевых мишек.'] \n",
    "['Группа людей, стоящих рядом друг с другом.'] \n",
    "['Черно-белое фото человека, держащего мобильный телефон.'] \n",
    "['Крупный план человека, стоящего рядом с автомобилем.'] \n",
    "['Светофор с двумя дорожными знаками на нем.'] \n",
    "['Стеклянный шар, наполненный множеством разных вещей.'] \n",
    "['Группа людей, запускающих воздушных змеев в парке.'] \n",
    "['Группа людей, стоящих вокруг и держащих воздушных змеев.'] \n",
    "['Куча воздушных змеев, которые летают в воздухе.'] \n",
    "['Куча фотографий, на которых изображены разные предметы.'] \n",
    "['Стеклянная скульптура, сделанная в виде слона.'] \n",
    "['Черно-белое фото сноубордиста в шлеме'] \n",
    "['Светофор, на котором есть надписи.'] \n",
    "['Крупный план человека, запускающего воздушного змея.'] \n",
    "['Плюшевый мишка, который держит человек.'] \n",
    "['Крупный план человека, держащего скейтборд.'] \n",
    "['Крупный план человека, запускающего воздушного змея.'] \n",
    "['Крупный план часов на стене.'] \n",
    "['Крупный план цветка в вазе.'] \n",
    "['Светофор на фоне неба.'] \n",
    "['Крупный план уличного знака, сделанного в виде коровы.'] \n",
    "['Две фотографии человека, держащего сноуборд.'] \n",
    "['Крупный план трех разных предметов.'] \n",
    "['Уличная сцена с изображением знака остановки.'] \n",
    "['Улыбающаяся женщина держит табличку с надписью «С днем \\u200b\\u200bрождения».'] \n",
    "['Крупный план трех разных цветов.'] \n",
    "['Стеклянная ваза с изображением цветов.'] \n",
    "['Маленькая девочка сидит на стуле в комнате.'] \n",
    "['Скейтборд и другие предметы на столе.'] \n",
    "['Крупный план двух разных часов.'] \n",
    "['Стеклянный шар, наполненный множеством разных изображений.'] \n",
    "['Стеклянная скульптура, изображающая двух человек, держащих в руках предметы.'] \n",
    "['Куча воздушных змеев, которые летают в воздухе.'] \n",
    "['Светофор, который горит красным.'] \n",
    "['Черно-белое изображение самолета, летящего в небе.'] \n",
    "['Автомобиль едет по улице ночью.'] \n",
    "['Светофор, на котором есть несколько изображений.'] \n",
    "['Крупный план человека, держащего ножницы.'] \n",
    "['Черно-белое изображение птицы, летящей над головой.'] \n",
    "['Две фотографии женщин, одетых в купальники.'] \n",
    "['Две фотографии женщины, лежащей на кровати.'] \n",
    "['Двое мужчин стоят рядом друг с другом и фотографируются.'] \n",
    "['Куча плюшевых мишек, сидящих рядом друг с другом.'] \n",
    "['Крупный план знака остановки на стене здания.'] \n",
    "['Вид на ночное небо с\"\"\""
   ]
  },
  {
   "cell_type": "code",
   "execution_count": 28,
   "id": "a07f51c8",
   "metadata": {},
   "outputs": [],
   "source": [
    "import re\n",
    "reg = re.compile('[^а-яА-Я ]')\n",
    "text = reg.sub('', text)"
   ]
  },
  {
   "cell_type": "code",
   "execution_count": 33,
   "id": "1ba4a44f",
   "metadata": {},
   "outputs": [
    {
     "data": {
      "text/plain": [
       "[{'summary_text': 'В Чернобельный сидящая в поставить мо крупут н двямых гли-за бы у чи т-о,�е,�е'}]"
      ]
     },
     "execution_count": 33,
     "metadata": {},
     "output_type": "execute_result"
    }
   ],
   "source": [
    "summarizer(text[:500])"
   ]
  },
  {
   "cell_type": "markdown",
   "id": "7aeccb02",
   "metadata": {},
   "source": [
    "### IlyaGusev mbart_ru_sum_gazeta "
   ]
  },
  {
   "cell_type": "markdown",
   "id": "2dfe5e6c",
   "metadata": {},
   "source": [
    "#### train"
   ]
  },
  {
   "cell_type": "code",
   "execution_count": 34,
   "id": "f0a0bbd2",
   "metadata": {},
   "outputs": [],
   "source": [
    "# Load model directly\n",
    "from transformers import AutoTokenizer, AutoModelForSeq2SeqLM\n",
    "\n",
    "tokenizer = AutoTokenizer.from_pretrained(\"IlyaGusev/mbart_ru_sum_gazeta\")\n",
    "model = AutoModelForSeq2SeqLM.from_pretrained(\"IlyaGusev/mbart_ru_sum_gazeta\")"
   ]
  },
  {
   "cell_type": "code",
   "execution_count": 35,
   "id": "cd4198e2",
   "metadata": {},
   "outputs": [
    {
     "data": {
      "text/plain": [
       "250027"
      ]
     },
     "execution_count": 35,
     "metadata": {},
     "output_type": "execute_result"
    }
   ],
   "source": [
    "tokenizer.vocab_size"
   ]
  },
  {
   "cell_type": "markdown",
   "id": "7f4496ec",
   "metadata": {},
   "source": [
    "#### Inference"
   ]
  },
  {
   "cell_type": "code",
   "execution_count": 36,
   "id": "05a535fa",
   "metadata": {},
   "outputs": [],
   "source": [
    "summarizer = pipeline(\"summarization\", model=\"IlyaGusev/mbart_ru_sum_gazeta\")"
   ]
  },
  {
   "cell_type": "code",
   "execution_count": 37,
   "id": "753babc6",
   "metadata": {},
   "outputs": [
    {
     "data": {
      "text/plain": [
       "[{'summary_text': 'Стеклянная ваза с нарисованными на ней цветами Стеклянная ваза с нарисованным на ней лицом Стеклянная скульптура с надписью Я не могу видеть изображение выше Чернобелое фото человека сидящего на полу Стеклянная скульптура слона сидящего на столе Стеклянная скульптура слона сидящего на столе Стеклянная ваза с нарисованным на ней лицом Стеклянная ваза стоит на столе Синебелый уличный фонарь и дерево Крупный план часов на стене здания Крупный план цветка на фоне неба Чернобелая фотография человека стоящего на коленях на земле Крупный план уличного знака на фоне голубого неба Крупный план знака остановки на фоне неба Уличная сцена с изображением знака Стоп Чернобелое фото трех человек держащих плюшевых мишек Группа людей стоящих рядом друг с'}]"
      ]
     },
     "execution_count": 37,
     "metadata": {},
     "output_type": "execute_result"
    }
   ],
   "source": [
    "summarizer(text)"
   ]
  },
  {
   "cell_type": "code",
   "execution_count": null,
   "id": "90f9e983",
   "metadata": {},
   "outputs": [],
   "source": []
  }
 ],
 "metadata": {
  "kernelspec": {
   "display_name": "asr",
   "language": "python",
   "name": "asr"
  },
  "language_info": {
   "codemirror_mode": {
    "name": "ipython",
    "version": 3
   },
   "file_extension": ".py",
   "mimetype": "text/x-python",
   "name": "python",
   "nbconvert_exporter": "python",
   "pygments_lexer": "ipython3",
   "version": "3.11.4"
  }
 },
 "nbformat": 4,
 "nbformat_minor": 5
}
